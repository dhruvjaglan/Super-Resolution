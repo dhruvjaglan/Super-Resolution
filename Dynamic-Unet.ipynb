{
 "cells": [
  {
   "cell_type": "markdown",
   "metadata": {},
   "source": [
    "## UNET\n",
    "\n",
    "<img src=\"modifiedunet.png\">\n",
    "\n",
    "you need to resize your image to a bigger size before passing it to unet"
   ]
  },
  {
   "cell_type": "code",
   "execution_count": 3,
   "metadata": {},
   "outputs": [],
   "source": [
    "import torch\n",
    "import torch.nn as nn\n",
    "import torch.nn.functional as F\n",
    "from torch.autograd import Variable\n",
    "import numpy as np"
   ]
  },
  {
   "cell_type": "markdown",
   "metadata": {},
   "source": [
    "### Utils"
   ]
  },
  {
   "cell_type": "code",
   "execution_count": 1,
   "metadata": {},
   "outputs": [],
   "source": [
    "def conv_bn_relu(in_c, out_c, kernel_size, stride, padding):\n",
    "    return [\n",
    "        nn.Conv2d(in_c, out_c, kernel_size=kernel_size, stride=stride, padding=padding),\n",
    "        nn.ReLU(),\n",
    "        nn.BatchNorm2d(out_c)]\n"
   ]
  },
  {
   "cell_type": "code",
   "execution_count": 2,
   "metadata": {},
   "outputs": [],
   "source": [
    "def get_sfs_idxs(sfs, last=True):\n",
    "    \"\"\"\n",
    "    Return the saved feature indexes that will be concatenated\n",
    "    Inputs:\n",
    "        sfs (list): saved features by hook function, in other words intermediate activations\n",
    "        last (bool): whether to concatenate only last different activation, or all from the encoder model\n",
    "    \"\"\"\n",
    "    if last:\n",
    "        feature_szs = [sfs_feats.features.size()[-1] for sfs_feats in sfs]\n",
    "        sfs_idxs = list(np.where(np.array(feature_szs[:-1]) != np.array(feature_szs[1:]))[0])\n",
    "        if feature_szs[0] != feature_szs[1]: sfs_idxs = [0] + sfs_idxs\n",
    "    else: sfs_idxs = list(range(len(sfs)))\n",
    "    return sfs_idxs\n"
   ]
  },
  {
   "cell_type": "code",
   "execution_count": 5,
   "metadata": {},
   "outputs": [],
   "source": [
    "class SaveFeatures():\n",
    "    \"\"\" Extract pretrained activations\"\"\"\n",
    "    features=None\n",
    "    def __init__(self, m): self.hook = m.register_forward_hook(self.hook_fn)\n",
    "    def hook_fn(self, module, input, output): self.features = output\n",
    "    def remove(self): self.hook.remove()\n"
   ]
  },
  {
   "cell_type": "code",
   "execution_count": 4,
   "metadata": {},
   "outputs": [],
   "source": [
    "class UnetBlock(nn.Module):\n",
    "    def __init__(self, up_in_c, x_in_c):\n",
    "        super().__init__()\n",
    "        self.upconv = nn.ConvTranspose2d(up_in_c, up_in_c // 2, 2, 2) # H, W -> 2H, 2W\n",
    "        self.conv1 = nn.Conv2d(x_in_c + up_in_c // 2, (x_in_c + up_in_c // 2) // 2, 3, 1, 1)\n",
    "        self.conv2 = nn.Conv2d((x_in_c + up_in_c // 2) // 2, (x_in_c + up_in_c // 2) // 2, 3, 1, 1)\n",
    "        self.bn = nn.BatchNorm2d((x_in_c + up_in_c // 2) // 2)\n",
    "\n",
    "    def forward(self, up_in, x_in):\n",
    "        up_out = self.upconv(up_in)\n",
    "        cat_x = torch.cat([up_out, x_in], dim=1)\n",
    "        x = F.relu(self.conv1(cat_x))\n",
    "        x = F.relu(self.conv2(x))\n",
    "        return self.bn(x)\n"
   ]
  },
  {
   "cell_type": "markdown",
   "metadata": {},
   "source": [
    "### Dynamic Unet\n",
    "\n",
    "in case of superres nclasses = channels in the output for rbg its 3"
   ]
  },
  {
   "cell_type": "code",
   "execution_count": 7,
   "metadata": {},
   "outputs": [],
   "source": [
    "class DynamicUnet(nn.Module):\n",
    "    \n",
    "    def __init__(self, encoder, last=True, n_classes=3):\n",
    "        super().__init__()\n",
    "        self.encoder = encoder\n",
    "        self.n_children = len(list(encoder.children()))\n",
    "        self.sfs = [SaveFeatures(encoder[i]) for i in range(self.n_children)]\n",
    "        self.last = last\n",
    "        self.n_classes = n_classes\n",
    "\n",
    "    def forward(self, x):\n",
    "        dtype = x.data.type()\n",
    "\n",
    "        # get imsize\n",
    "        imsize = x.size()[-2:]\n",
    "\n",
    "        # encoder output\n",
    "        x = F.relu(self.encoder(x))\n",
    "\n",
    "        # initialize sfs_idxs, sfs_szs, middle_in_c and middle_conv only once\n",
    "        if not hasattr(self, 'middle_conv'):\n",
    "            self.sfs_szs = [sfs_feats.features.size() for sfs_feats in self.sfs]\n",
    "            self.sfs_idxs = get_sfs_idxs(self.sfs, self.last)\n",
    "            middle_in_c = self.sfs_szs[-1][1]\n",
    "            middle_conv = nn.Sequential(*conv_bn_relu(middle_in_c, middle_in_c * 2, 3, 1, 1),\n",
    "                                        *conv_bn_relu(middle_in_c * 2, middle_in_c, 3, 1, 1))\n",
    "            self.middle_conv = middle_conv.type(dtype)\n",
    "\n",
    "        # middle conv\n",
    "        x = self.middle_conv(x)\n",
    "\n",
    "        # initialize upmodel, extra_block and 1x1 final conv\n",
    "        if not hasattr(self, 'upmodel'):\n",
    "            x_copy = Variable(x.data, requires_grad=False)\n",
    "            upmodel = []\n",
    "            for idx in self.sfs_idxs[::-1]:\n",
    "                up_in_c, x_in_c = int(x_copy.size()[1]), int(self.sfs_szs[idx][1])\n",
    "                unet_block = UnetBlock(up_in_c, x_in_c).type(dtype)\n",
    "                upmodel.append(unet_block)\n",
    "                x_copy = unet_block(x_copy, self.sfs[idx].features)\n",
    "                self.upmodel = nn.Sequential(*upmodel)\n",
    "\n",
    "            if imsize != self.sfs_szs[0][-2:]:\n",
    "                extra_in_c = self.upmodel[-1].conv2.out_channels\n",
    "                self.extra_block = nn.ConvTranspose2d(extra_in_c, extra_in_c, 2, 2).type(dtype)\n",
    "\n",
    "            final_in_c = self.upmodel[-1].conv2.out_channels\n",
    "            self.final_conv = nn.Conv2d(final_in_c, self.n_classes, 1).type(dtype)\n",
    "\n",
    "        # run upsample\n",
    "        for block, idx in zip(self.upmodel, self.sfs_idxs[::-1]):\n",
    "            x = block(x, self.sfs[idx].features)\n",
    "        if hasattr(self, 'extra_block'):\n",
    "            x = self.extra_block(x)\n",
    "\n",
    "        out = self.final_conv(x)\n",
    "        return out"
   ]
  },
  {
   "cell_type": "markdown",
   "metadata": {},
   "source": [
    "### add Encoder model with cut"
   ]
  },
  {
   "cell_type": "code",
   "execution_count": 20,
   "metadata": {},
   "outputs": [],
   "source": [
    "def Transfer_Head(m):\n",
    "    cut = next(i for i,o in enumerate(m.children()) if isinstance(o,nn.AdaptiveAvgPool2d))\n",
    "    return nn.Sequential(*list(m.children())[:cut])"
   ]
  },
  {
   "cell_type": "code",
   "execution_count": 10,
   "metadata": {},
   "outputs": [],
   "source": [
    "import torchvision.models as models"
   ]
  },
  {
   "cell_type": "code",
   "execution_count": 11,
   "metadata": {},
   "outputs": [
    {
     "name": "stderr",
     "output_type": "stream",
     "text": [
      "Downloading: \"https://download.pytorch.org/models/resnet34-333f7ec4.pth\" to /home/dhruv/.cache/torch/checkpoints/resnet34-333f7ec4.pth\n"
     ]
    },
    {
     "data": {
      "application/vnd.jupyter.widget-view+json": {
       "model_id": "94a12c662f4d40d39a6deeac908ad837",
       "version_major": 2,
       "version_minor": 0
      },
      "text/plain": [
       "HBox(children=(FloatProgress(value=0.0, max=87306240.0), HTML(value='')))"
      ]
     },
     "metadata": {},
     "output_type": "display_data"
    },
    {
     "name": "stdout",
     "output_type": "stream",
     "text": [
      "\n"
     ]
    }
   ],
   "source": [
    "resnet34 = models.resnet34(pretrained=True)\n"
   ]
  },
  {
   "cell_type": "code",
   "execution_count": 23,
   "metadata": {},
   "outputs": [],
   "source": [
    "new_model = Transfer_Head(resnet34)"
   ]
  },
  {
   "cell_type": "code",
   "execution_count": 29,
   "metadata": {},
   "outputs": [],
   "source": [
    "unet= DynamicUnet(new_model)"
   ]
  },
  {
   "cell_type": "code",
   "execution_count": null,
   "metadata": {},
   "outputs": [],
   "source": []
  },
  {
   "cell_type": "code",
   "execution_count": null,
   "metadata": {},
   "outputs": [],
   "source": []
  }
 ],
 "metadata": {
  "kernelspec": {
   "display_name": "Python 3",
   "language": "python",
   "name": "python3"
  },
  "language_info": {
   "codemirror_mode": {
    "name": "ipython",
    "version": 3
   },
   "file_extension": ".py",
   "mimetype": "text/x-python",
   "name": "python",
   "nbconvert_exporter": "python",
   "pygments_lexer": "ipython3",
   "version": "3.5.6"
  }
 },
 "nbformat": 4,
 "nbformat_minor": 4
}
